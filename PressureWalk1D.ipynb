{
 "cells": [
  {
   "cell_type": "code",
   "execution_count": 4,
   "metadata": {
    "colab": {
     "base_uri": "https://localhost:8080/"
    },
    "executionInfo": {
     "elapsed": 2265,
     "status": "ok",
     "timestamp": 1708436973916,
     "user": {
      "displayName": "Gustavo Nicoletti Rosa",
      "userId": "11413956306490466598"
     },
     "user_tz": -60
    },
    "id": "zPgkAd27GQqF",
    "outputId": "688fa43f-12c7-4eb8-cf8d-2e5299d08e5b"
   },
   "outputs": [],
   "source": [
    "import matplotlib.pyplot as plt\n",
    "import numpy as np\n",
    "import os\n",
    "\n",
    "ROOT = \".\"\n",
    "SIM = 0 # choose\n",
    "FIGURES_FOLDER = ROOT + f\"/Figures/sim{SIM}/\"\n",
    "SIM_FOLDER = ROOT + f\"/Simulations/sim{SIM}/\"\n",
    "\n",
    "if not os.path.exists(FIGURES_FOLDER):\n",
    "    os.mkdir(FIGURES_FOLDER)\n",
    "if not os.path.exists(SIM_FOLDER):\n",
    "    os.mkdir(SIM_FOLDER)"
   ]
  },
  {
   "cell_type": "code",
   "execution_count": 5,
   "metadata": {
    "executionInfo": {
     "elapsed": 1,
     "status": "ok",
     "timestamp": 1708436974382,
     "user": {
      "displayName": "Gustavo Nicoletti Rosa",
      "userId": "11413956306490466598"
     },
     "user_tz": -60
    },
    "id": "qrqHkxyLGmIc"
   },
   "outputs": [],
   "source": [
    "def G(rho, p, P):\n",
    "  return p*(1-rho/P)\n",
    "\n",
    "# 1D parameter derivation:\n",
    "# delta^2 / (1*tau) -> D for delta, tau -> 0\n",
    "# Du = theta_u * D\n",
    "# Di = theta_i * D\n",
    "\n",
    "delta = 0.05 # mm\n",
    "tau = 0.2 # h\n",
    "D = delta**2/(2*tau)\n",
    "Du = Di = 1.5e-3 # mm^2/h\n",
    "theta_u = Du/D\n",
    "theta_i = Di/D\n",
    "beta = 1.02e-1 # h-1\n",
    "p = 1.87e-2 # h-1\n",
    "q = 4.17e-2 # h-1\n",
    "P = K = 1e3 # 1/mm^2\n",
    "c_max = int(K*delta)\n",
    "Ru = 2.6 # mm\n",
    "Ri = 1 # mm\n",
    "pop_unit = 1"
   ]
  },
  {
   "cell_type": "code",
   "execution_count": 6,
   "metadata": {
    "colab": {
     "base_uri": "https://localhost:8080/"
    },
    "executionInfo": {
     "elapsed": 2,
     "status": "ok",
     "timestamp": 1708436975188,
     "user": {
      "displayName": "Gustavo Nicoletti Rosa",
      "userId": "11413956306490466598"
     },
     "user_tz": -60
    },
    "id": "1f7LoG88QxOt",
    "outputId": "2422ef76-8592-4823-bc1b-744703bc206c"
   },
   "outputs": [
    {
     "name": "stdout",
     "output_type": "stream",
     "text": [
      "max of dtype: 32767 . cmax:  50\n"
     ]
    }
   ],
   "source": [
    "def initialize_mesh(delta, Ru, Ri, c_max):\n",
    "  initial_u = int(.9*c_max)\n",
    "  initial_i = int(.1*c_max)\n",
    "  size = int(1/delta * 10 * 2)\n",
    "  domain = np.zeros((2, size), dtype='int16')\n",
    "  uint8 = np.iinfo(np.int16)\n",
    "  print(\"max of dtype:\", uint8.max, \". cmax: \",c_max)\n",
    "  for i in range(size):\n",
    "    if ((i-size/2)*delta)**2 <= (Ru)**2:\n",
    "      domain[0][i] = initial_u\n",
    "    if ((i-size/2)*delta)**2 <= (Ri)**2:\n",
    "      domain[1][i] = initial_i\n",
    "  return domain\n",
    "\n",
    "domain = initialize_mesh(delta, Ru, Ri, c_max)"
   ]
  },
  {
   "cell_type": "code",
   "execution_count": 11,
   "metadata": {
    "colab": {
     "base_uri": "https://localhost:8080/",
     "height": 411
    },
    "executionInfo": {
     "elapsed": 3089,
     "status": "ok",
     "timestamp": 1708436979491,
     "user": {
      "displayName": "Gustavo Nicoletti Rosa",
      "userId": "11413956306490466598"
     },
     "user_tz": -60
    },
    "id": "2FivGEJtV9GV",
    "outputId": "60aad318-c7b9-4a7e-8d26-c712557b9180"
   },
   "outputs": [
    {
     "data": {
      "image/png": "[encoded data removed]",
      "text/plain": [
       "<Figure size 700x400 with 1 Axes>"
      ]
     },
     "metadata": {},
     "output_type": "display_data"
    }
   ],
   "source": [
    "# define functions and parameters to save and plot results\n",
    "\n",
    "def save_values(domain, h):\n",
    "  np.save(f\"{SIM_FOLDER}/sim{SIM}_h{h}.npy\", domain)\n",
    "\n",
    "size = int(1/delta * 10 * 2)\n",
    "ticks = [size//2 - 5//delta, size//2, size//2 + 5//delta]\n",
    "\n",
    "def plot_domain(domain, h):\n",
    "  radius_u = (Ru + h*np.sqrt(Du*p/2))/delta\n",
    "  radius_i = (Ri + h*np.sqrt(Di*(beta-q)))/delta\n",
    "  fig, ax = plt.subplots(figsize=(7, 4))\n",
    "\n",
    "  # plot U\n",
    "  plt.plot(np.divide(domain[0],delta), color=\"tab:blue\")\n",
    "  ax.set_xticks(ticks)\n",
    "  ax.set_xticklabels([\"-5\",\"0\",\"+5\"],rotation=0)\n",
    "  ax.title.set_text(f\"h={h}\\ncells/mm\")\n",
    "  plt.vlines([size//2 + radius_u, size//2 - radius_u], 0, c_max/delta, colors=[\"cyan\"], linestyles=\"dashed\", alpha=0.5)\n",
    "  # plot I\n",
    "  plt.plot(np.divide(domain[1],delta), color=\"tab:red\")\n",
    "  ax.yaxis.grid(alpha=0.3)\n",
    "  # save and plot figure\n",
    "  plt.savefig(f\"{FIGURES_FOLDER}/pressure_sim{SIM}_h{h}.png\", format='png', dpi=200)\n",
    "  plt.show()\n",
    "\n",
    "plot_domain(domain, 0)"
   ]
  },
  {
   "cell_type": "code",
   "execution_count": 12,
   "metadata": {
    "executionInfo": {
     "elapsed": 2,
     "status": "ok",
     "timestamp": 1708436980740,
     "user": {
      "displayName": "Gustavo Nicoletti Rosa",
      "userId": "11413956306490466598"
     },
     "user_tz": -60
    },
    "id": "xkda-Rjx4-g4"
   },
   "outputs": [],
   "source": [
    "# def simulation functions\n",
    "\n",
    "def pressure_move(space_next, cell_type, i, p_unit):\n",
    "  tot_cells_i = space_next[0][i] + space_next[1][i]\n",
    "  tot_cells_right = space_next[0][i+1] + space_next[1][i+1]\n",
    "  tot_cells_left = space_next[0][i-1] + space_next[1][i-1]\n",
    "\n",
    "  prob_right = max((tot_cells_i-tot_cells_right), 0.)*theta_u/(2*c_max)\n",
    "  prob_left = max((tot_cells_i-tot_cells_left), 0.)*theta_u/(2*c_max)\n",
    "  prob_stay = max(1-prob_right-prob_left, 0.)\n",
    "  prob_dist = [prob_stay, prob_right, prob_left]\n",
    "  prob_dist /= np.sum(prob_dist)\n",
    "  action = np.random.choice([\"stay\", \"right\", \"left\"], p=prob_dist)\n",
    "\n",
    "  if action == \"right\" and i < space_next.shape[1]:\n",
    "    space_next[cell_type][i] -= p_unit\n",
    "    space_next[cell_type][i+1] += p_unit\n",
    "  elif action == \"left\" and i > 0:\n",
    "    space_next[cell_type][i] -= p_unit\n",
    "    space_next[cell_type][i-1] += p_unit\n",
    "\n",
    "def select_u_action(space, space_next, i):\n",
    "  cell_type = 0\n",
    "  # reproduce or die or nothing:\n",
    "  if space[0][i]+space[1][i] >= c_max:\n",
    "    prob_to_die = max(-tau*p*(1-(space[0][i]+space[1][i])/c_max), 0)\n",
    "    prob_dist = [1-prob_to_die, prob_to_die]\n",
    "    action = np.random.choice([\"live\",\"die\"], p=prob_dist)\n",
    "    if action == \"die\":\n",
    "      space[0][i] -= pop_unit\n",
    "      space_next[0][i] -= pop_unit\n",
    "      return\n",
    "  else:\n",
    "    prob_to_reproduce = max(tau*p*(1-(space[0][i]+space[1][i])/c_max), 0)\n",
    "    prob_dist = [1-prob_to_reproduce, prob_to_reproduce]\n",
    "    action = np.random.choice([\"nothing\",\"reproduce\"], p=prob_dist)\n",
    "    if action == \"reproduce\":\n",
    "      space_next[0][i] += pop_unit\n",
    "\n",
    "  # infect or not\n",
    "  prob_to_infect = tau*beta*space[1][i]/c_max\n",
    "  prob_dist = [1-prob_to_infect, prob_to_infect]\n",
    "  action = np.random.choice([\"no\",\"infected\"], p=prob_dist)\n",
    "  if action == \"infected\":\n",
    "    space_next[0][i] -= pop_unit\n",
    "    space_next[1][i] += pop_unit\n",
    "    cell_type = 1\n",
    "\n",
    "  # move or stay\n",
    "  pressure_move(space_next, cell_type, i, pop_unit)\n",
    "\n",
    "def select_i_action(space, space_next, i):\n",
    "  cell_type = 1\n",
    "  # live or die:\n",
    "  prob_to_die = tau*q\n",
    "  prob_dist = [1-prob_to_die, prob_to_die]\n",
    "  action = np.random.choice([\"live\",\"die\"], p=prob_dist)\n",
    "  if action == \"die\":\n",
    "    space_next[1][i] -= 1\n",
    "    return\n",
    "\n",
    "  # move or stay\n",
    "  pressure_move(space_next, cell_type, i, 1)\n",
    "\n",
    "def pressure_walk_1D(space, space_next, tot_hours, h=0):\n",
    "  time_steps = int((tot_hours-h)/tau)\n",
    "  for time in range(time_steps):\n",
    "    for i in range(space.shape[1]):\n",
    "      for u_cell in range(space[0][i]//pop_unit):\n",
    "        # select what happens to uninfected tumor cell\n",
    "        select_u_action(space, space_next, i)\n",
    "      for i_cell in range(space[1][i]):\n",
    "        # select what happens to infected tumor cell\n",
    "        select_i_action(space, space_next, i)\n",
    "    space = space_next.copy()\n",
    "    if (time+1) % int(1/tau) == 0:\n",
    "      h += 1\n",
    "      print(f\"hour = {h:4} / {tot_hours}\")\n",
    "      if h % 10 == 0:\n",
    "        #plot_domain(space, h)\n",
    "        save_values(space, h)\n",
    "  return space"
   ]
  },
  {
   "cell_type": "code",
   "execution_count": 13,
   "metadata": {
    "colab": {
     "base_uri": "https://localhost:8080/"
    },
    "executionInfo": {
     "elapsed": 5404599,
     "status": "ok",
     "timestamp": 1708442387951,
     "user": {
      "displayName": "Gustavo Nicoletti Rosa",
      "userId": "11413956306490466598"
     },
     "user_tz": -60
    },
    "id": "w06he2FWTsoE",
    "outputId": "28d781b7-9fce-4514-8d44-6eacf39c5604"
   },
   "outputs": [
    {
     "name": "stdout",
     "output_type": "stream",
     "text": [
      "hour =    1 / 10\n",
      "hour =    2 / 10\n",
      "hour =    3 / 10\n",
      "hour =    4 / 10\n",
      "hour =    5 / 10\n",
      "hour =    6 / 10\n",
      "hour =    7 / 10\n",
      "hour =    8 / 10\n",
      "hour =    9 / 10\n",
      "hour =   10 / 10\n"
     ]
    }
   ],
   "source": [
    "# simulate\n",
    "\n",
    "## code to use in case of recovered simulation:\n",
    "# rec_sim = SIM\n",
    "# rec_h = 630\n",
    "# domain = np.load(f\"{SIM_FOLDER}/sim{rec_sim}/sim{rec_sim}_h{rec_h}.npy\")\n",
    "\n",
    "domain = pressure_walk_1D(domain, domain.copy(), tot_hours=10) # h=rec_h"
   ]
  }
 ],
 "metadata": {
  "colab": {
   "authorship_tag": "ABX9TyMyZPdvmrmMXsASOxmayW/o",
   "provenance": []
  },
  "kernelspec": {
   "display_name": "Python 3 (ipykernel)",
   "language": "python",
   "name": "python3"
  },
  "language_info": {
   "codemirror_mode": {
    "name": "ipython",
    "version": 3
   },
   "file_extension": ".py",
   "mimetype": "text/x-python",
   "name": "python",
   "nbconvert_exporter": "python",
   "pygments_lexer": "ipython3",
   "version": "3.9.18"
  }
 },
 "nbformat": 4,
 "nbformat_minor": 1
}
