{
 "cells": [
  {
   "cell_type": "code",
   "execution_count": 1,
   "metadata": {
    "colab": {
     "base_uri": "https://localhost:8080/"
    },
    "executionInfo": {
     "elapsed": 16751,
     "status": "ok",
     "timestamp": 1710281334192,
     "user": {
      "displayName": "Gustavo Nicoletti Rosa",
      "userId": "08068668883689258078"
     },
     "user_tz": -60
    },
    "id": "X4sS-0gUiKCJ",
    "outputId": "9f4ca572-d102-4195-c88b-f98bf4fe47e1"
   },
   "outputs": [],
   "source": [
    "import numpy as np\n",
    "import os\n",
    "import imageio\n",
    "\n",
    "FIGURES_FOLDER_gif = \"./Figures\""
   ]
  },
  {
   "cell_type": "code",
   "execution_count": 2,
   "metadata": {
    "colab": {
     "base_uri": "https://localhost:8080/"
    },
    "executionInfo": {
     "elapsed": 5526,
     "status": "ok",
     "timestamp": 1710288461936,
     "user": {
      "displayName": "Gustavo Nicoletti Rosa",
      "userId": "08068668883689258078"
     },
     "user_tz": -60
    },
    "id": "ThOTh3TgiAoZ",
    "outputId": "8b296fec-1d1d-4f4c-8b9c-a9bef31558b3"
   },
   "outputs": [],
   "source": [
    "def create_animated_gif(input_folder, output_gif):\n",
    "    # Get all file names in the input folder\n",
    "    file_names = sorted((os.path.join(input_folder, fn) for fn in os.listdir(input_folder) if fn.endswith('.png')))\n",
    "\n",
    "    # Read each file as an image\n",
    "    images = [imageio.imread(fn) for fn in file_names]\n",
    "\n",
    "    # Save the images as an animated gif\n",
    "    imageio.mimsave(output_gif, images, loop=999)\n",
    "\n",
    "## 2D_random_walk_ABM_avg\n",
    "# create_animated_gif(f'{FIGURES_FOLDER_gif}/2D_random_walk_ABM_avg', f'2D_random_walk_ABM_avg.gif')\n",
    "\n",
    "## 2D_pressure_walk_ABM_avg\n",
    "# create_animated_gif(f'{FIGURES_FOLDER_gif}/2D_pressure_walk_ABM_avg', f'{FIGURES_FOLDER_gif}/2D_pressure_walk_ABM_avg.gif')\n",
    "\n",
    "## 2D_pressure_walk_ABM_RiRu\n",
    "# create_animated_gif(f'{FIGURES_FOLDER_gif}/2D_pressure_walk_ABM_RiRu', f'{FIGURES_FOLDER_gif}/2D_pressure_walk_ABM_RiRu.gif')\n",
    "\n",
    "## 2D_pressure_walk_ABM_opt\n",
    "# create_animated_gif(f'{FIGURES_FOLDER_gif}/2D_pressure_walk_ABM_opt', f'{FIGURES_FOLDER_gif}/2D_pressure_walk_ABM_opt.gif')\n",
    "\n",
    "## 1D_random_walk_ABM_avg\n",
    "# create_animated_gif(f'{FIGURES_FOLDER_gif}/1D_random_walk_ABM_avg', f'{FIGURES_FOLDER_gif}/1D_random_walk_ABM_avg.gif')\n",
    "\n",
    "## 1D_pressure_walk_ABM_avg\n",
    "# create_animated_gif(f'{FIGURES_FOLDER_gif}/1D_pressure_walk_ABM_avg', f'{FIGURES_FOLDER_gif}/1D_pressure_walk_ABM_avg.gif')\n",
    "\n",
    "# pde_pressure_walk_junk\n",
    "# create_animated_gif(f'{FIGURES_FOLDER_gif}/pde_pressure_walk_junk', f'{FIGURES_FOLDER_gif}/pde_pressure_walk_junk.gif')"
   ]
  }
 ],
 "metadata": {
  "colab": {
   "provenance": []
  },
  "kernelspec": {
   "display_name": "Python 3 (ipykernel)",
   "language": "python",
   "name": "python3"
  },
  "language_info": {
   "codemirror_mode": {
    "name": "ipython",
    "version": 3
   },
   "file_extension": ".py",
   "mimetype": "text/x-python",
   "name": "python",
   "nbconvert_exporter": "python",
   "pygments_lexer": "ipython3",
   "version": "3.9.18"
  }
 },
 "nbformat": 4,
 "nbformat_minor": 1
}
